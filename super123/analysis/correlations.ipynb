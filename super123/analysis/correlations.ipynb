{
 "cells": [
  {
   "cell_type": "code",
   "execution_count": 1,
   "metadata": {},
   "outputs": [],
   "source": [
    "import numpy as np\n",
    "import pandas as pd"
   ]
  },
  {
   "cell_type": "code",
   "execution_count": 2,
   "metadata": {},
   "outputs": [],
   "source": [
    "df = pd.read_csv('../super123Database_final')"
   ]
  },
  {
   "cell_type": "code",
   "execution_count": 4,
   "metadata": {},
   "outputs": [
    {
     "output_type": "stream",
     "name": "stdout",
     "text": [
      "   Unnamed: 0  Unnamed: 0.1  number_of_elements  mean_atomic_mass  \\\n0        5763          5763                   6         66.525876   \n1        5762          5762                   6         66.525876   \n2        6272          6272                   5         95.509280   \n3        6271          6271                   5         95.509280   \n4        5409          5409                   6         86.270733   \n\n   wtd_mean_atomic_mass  gmean_atomic_mass  wtd_gmean_atomic_mass  \\\n0             40.871405          50.139277              29.985460   \n1             41.732833          50.139277              30.239422   \n2             55.855387          73.307186              36.670006   \n3             56.483239          73.307186              36.810468   \n4             54.012595          66.288745              35.923276   \n\n   entropy_atomic_mass  wtd_entropy_atomic_mass  range_atomic_mass  ...  \\\n0             1.532445                 1.586632          148.93092  ...   \n1             1.532445                 1.586755          148.93092  ...   \n2             1.419515                 1.552789          157.05460  ...   \n3             1.419515                 1.524549          157.05460  ...   \n4             1.582046                 1.542702          157.05460  ...   \n\n   gmean_Valence  wtd_gmean_Valence  entropy_Valence  wtd_entropy_Valence  \\\n0       2.289428           2.089266         1.772139             1.421106   \n1       2.289428           2.095417         1.772139             1.422691   \n2       2.168944           2.065354         1.594167             1.320298   \n3       2.168944           2.065091         1.594167             1.308431   \n4       2.139826           2.042547         1.778233             1.345217   \n\n   range_Valence  wtd_range_Valence  std_Valence  wtd_std_Valence  \\\n0              1           0.984615     0.471405         0.309991   \n1              1           1.003831     0.471405         0.318953   \n2              1           0.921491     0.400000         0.270210   \n3              1           0.957346     0.400000         0.269722   \n4              1           0.985623     0.372678         0.221859   \n\n   critical_temp                        material  \n0           24.0           Al1Sr2Ho0.4Ca0.6Cu2O7  \n1           18.0        Al1Sr2Ho0.5Ca0.5Cu2O7.05  \n2           36.7           Ba1.2Sr0.8Yb1Cu3O6.61  \n3           43.1           Ba1.4Sr0.6Yb1Cu3O6.66  \n4           79.0  Ba1.6Sr0.4Yb0.65Ca0.35Cu3O6.52  \n\n[5 rows x 85 columns]\n"
     ]
    }
   ],
   "source": [
    "print(df.head())\n",
    "#problema dos unnamed\n",
    "df = df.drop('Unnamed: 0', axis='columns').drop('Unnamed: 0.1', axis='columns')"
   ]
  },
  {
   "cell_type": "code",
   "execution_count": 5,
   "metadata": {},
   "outputs": [
    {
     "output_type": "execute_result",
     "data": {
      "text/plain": [
       "   number_of_elements  mean_atomic_mass  wtd_mean_atomic_mass  \\\n",
       "0                   6         66.525876             40.871405   \n",
       "1                   6         66.525876             41.732833   \n",
       "2                   5         95.509280             55.855387   \n",
       "3                   5         95.509280             56.483239   \n",
       "4                   6         86.270733             54.012595   \n",
       "\n",
       "   gmean_atomic_mass  wtd_gmean_atomic_mass  entropy_atomic_mass  \\\n",
       "0          50.139277              29.985460             1.532445   \n",
       "1          50.139277              30.239422             1.532445   \n",
       "2          73.307186              36.670006             1.419515   \n",
       "3          73.307186              36.810468             1.419515   \n",
       "4          66.288745              35.923276             1.582046   \n",
       "\n",
       "   wtd_entropy_atomic_mass  range_atomic_mass  wtd_range_atomic_mass  \\\n",
       "0                 1.586632          148.93092              11.630246   \n",
       "1                 1.586755          148.93092              11.892797   \n",
       "2                 1.552789          157.05460               9.559239   \n",
       "3                 1.524549          157.05460              11.033633   \n",
       "4                 1.542702          157.05460              16.429385   \n",
       "\n",
       "   std_atomic_mass  ...  gmean_Valence  wtd_gmean_Valence  entropy_Valence  \\\n",
       "0        49.922349  ...       2.289428           2.089266         1.772139   \n",
       "1        49.922349  ...       2.289428           2.095417         1.772139   \n",
       "2        55.077433  ...       2.168944           2.065354         1.594167   \n",
       "3        55.077433  ...       2.168944           2.065091         1.594167   \n",
       "4        54.357061  ...       2.139826           2.042547         1.778233   \n",
       "\n",
       "   wtd_entropy_Valence  range_Valence  wtd_range_Valence  std_Valence  \\\n",
       "0             1.421106              1           0.984615     0.471405   \n",
       "1             1.422691              1           1.003831     0.471405   \n",
       "2             1.320298              1           0.921491     0.400000   \n",
       "3             1.308431              1           0.957346     0.400000   \n",
       "4             1.345217              1           0.985623     0.372678   \n",
       "\n",
       "   wtd_std_Valence  critical_temp                        material  \n",
       "0         0.309991           24.0           Al1Sr2Ho0.4Ca0.6Cu2O7  \n",
       "1         0.318953           18.0        Al1Sr2Ho0.5Ca0.5Cu2O7.05  \n",
       "2         0.270210           36.7           Ba1.2Sr0.8Yb1Cu3O6.61  \n",
       "3         0.269722           43.1           Ba1.4Sr0.6Yb1Cu3O6.66  \n",
       "4         0.221859           79.0  Ba1.6Sr0.4Yb0.65Ca0.35Cu3O6.52  \n",
       "\n",
       "[5 rows x 83 columns]"
      ],
      "text/html": "<div>\n<style scoped>\n    .dataframe tbody tr th:only-of-type {\n        vertical-align: middle;\n    }\n\n    .dataframe tbody tr th {\n        vertical-align: top;\n    }\n\n    .dataframe thead th {\n        text-align: right;\n    }\n</style>\n<table border=\"1\" class=\"dataframe\">\n  <thead>\n    <tr style=\"text-align: right;\">\n      <th></th>\n      <th>number_of_elements</th>\n      <th>mean_atomic_mass</th>\n      <th>wtd_mean_atomic_mass</th>\n      <th>gmean_atomic_mass</th>\n      <th>wtd_gmean_atomic_mass</th>\n      <th>entropy_atomic_mass</th>\n      <th>wtd_entropy_atomic_mass</th>\n      <th>range_atomic_mass</th>\n      <th>wtd_range_atomic_mass</th>\n      <th>std_atomic_mass</th>\n      <th>...</th>\n      <th>gmean_Valence</th>\n      <th>wtd_gmean_Valence</th>\n      <th>entropy_Valence</th>\n      <th>wtd_entropy_Valence</th>\n      <th>range_Valence</th>\n      <th>wtd_range_Valence</th>\n      <th>std_Valence</th>\n      <th>wtd_std_Valence</th>\n      <th>critical_temp</th>\n      <th>material</th>\n    </tr>\n  </thead>\n  <tbody>\n    <tr>\n      <th>0</th>\n      <td>6</td>\n      <td>66.525876</td>\n      <td>40.871405</td>\n      <td>50.139277</td>\n      <td>29.985460</td>\n      <td>1.532445</td>\n      <td>1.586632</td>\n      <td>148.93092</td>\n      <td>11.630246</td>\n      <td>49.922349</td>\n      <td>...</td>\n      <td>2.289428</td>\n      <td>2.089266</td>\n      <td>1.772139</td>\n      <td>1.421106</td>\n      <td>1</td>\n      <td>0.984615</td>\n      <td>0.471405</td>\n      <td>0.309991</td>\n      <td>24.0</td>\n      <td>Al1Sr2Ho0.4Ca0.6Cu2O7</td>\n    </tr>\n    <tr>\n      <th>1</th>\n      <td>6</td>\n      <td>66.525876</td>\n      <td>41.732833</td>\n      <td>50.139277</td>\n      <td>30.239422</td>\n      <td>1.532445</td>\n      <td>1.586755</td>\n      <td>148.93092</td>\n      <td>11.892797</td>\n      <td>49.922349</td>\n      <td>...</td>\n      <td>2.289428</td>\n      <td>2.095417</td>\n      <td>1.772139</td>\n      <td>1.422691</td>\n      <td>1</td>\n      <td>1.003831</td>\n      <td>0.471405</td>\n      <td>0.318953</td>\n      <td>18.0</td>\n      <td>Al1Sr2Ho0.5Ca0.5Cu2O7.05</td>\n    </tr>\n    <tr>\n      <th>2</th>\n      <td>5</td>\n      <td>95.509280</td>\n      <td>55.855387</td>\n      <td>73.307186</td>\n      <td>36.670006</td>\n      <td>1.419515</td>\n      <td>1.552789</td>\n      <td>157.05460</td>\n      <td>9.559239</td>\n      <td>55.077433</td>\n      <td>...</td>\n      <td>2.168944</td>\n      <td>2.065354</td>\n      <td>1.594167</td>\n      <td>1.320298</td>\n      <td>1</td>\n      <td>0.921491</td>\n      <td>0.400000</td>\n      <td>0.270210</td>\n      <td>36.7</td>\n      <td>Ba1.2Sr0.8Yb1Cu3O6.61</td>\n    </tr>\n    <tr>\n      <th>3</th>\n      <td>5</td>\n      <td>95.509280</td>\n      <td>56.483239</td>\n      <td>73.307186</td>\n      <td>36.810468</td>\n      <td>1.419515</td>\n      <td>1.524549</td>\n      <td>157.05460</td>\n      <td>11.033633</td>\n      <td>55.077433</td>\n      <td>...</td>\n      <td>2.168944</td>\n      <td>2.065091</td>\n      <td>1.594167</td>\n      <td>1.308431</td>\n      <td>1</td>\n      <td>0.957346</td>\n      <td>0.400000</td>\n      <td>0.269722</td>\n      <td>43.1</td>\n      <td>Ba1.4Sr0.6Yb1Cu3O6.66</td>\n    </tr>\n    <tr>\n      <th>4</th>\n      <td>6</td>\n      <td>86.270733</td>\n      <td>54.012595</td>\n      <td>66.288745</td>\n      <td>35.923276</td>\n      <td>1.582046</td>\n      <td>1.542702</td>\n      <td>157.05460</td>\n      <td>16.429385</td>\n      <td>54.357061</td>\n      <td>...</td>\n      <td>2.139826</td>\n      <td>2.042547</td>\n      <td>1.778233</td>\n      <td>1.345217</td>\n      <td>1</td>\n      <td>0.985623</td>\n      <td>0.372678</td>\n      <td>0.221859</td>\n      <td>79.0</td>\n      <td>Ba1.6Sr0.4Yb0.65Ca0.35Cu3O6.52</td>\n    </tr>\n  </tbody>\n</table>\n<p>5 rows × 83 columns</p>\n</div>"
     },
     "metadata": {},
     "execution_count": 5
    }
   ],
   "source": [
    "df.head()"
   ]
  },
  {
   "cell_type": "code",
   "execution_count": 6,
   "metadata": {},
   "outputs": [],
   "source": [
    "featureList = df.columns"
   ]
  },
  {
   "cell_type": "code",
   "execution_count": 10,
   "metadata": {},
   "outputs": [],
   "source": [
    "featureList = list(filter( lambda item: item != 'material', featureList ))"
   ]
  },
  {
   "cell_type": "code",
   "execution_count": 11,
   "metadata": {},
   "outputs": [
    {
     "output_type": "stream",
     "name": "stdout",
     "text": [
      "['number_of_elements', 'mean_atomic_mass', 'wtd_mean_atomic_mass', 'gmean_atomic_mass', 'wtd_gmean_atomic_mass', 'entropy_atomic_mass', 'wtd_entropy_atomic_mass', 'range_atomic_mass', 'wtd_range_atomic_mass', 'std_atomic_mass', 'wtd_std_atomic_mass', 'mean_fie', 'wtd_mean_fie', 'gmean_fie', 'wtd_gmean_fie', 'entropy_fie', 'wtd_entropy_fie', 'range_fie', 'wtd_range_fie', 'std_fie', 'wtd_std_fie', 'mean_atomic_radius', 'wtd_mean_atomic_radius', 'gmean_atomic_radius', 'wtd_gmean_atomic_radius', 'entropy_atomic_radius', 'wtd_entropy_atomic_radius', 'range_atomic_radius', 'wtd_range_atomic_radius', 'std_atomic_radius', 'wtd_std_atomic_radius', 'mean_Density', 'wtd_mean_Density', 'gmean_Density', 'wtd_gmean_Density', 'entropy_Density', 'wtd_entropy_Density', 'range_Density', 'wtd_range_Density', 'std_Density', 'wtd_std_Density', 'mean_ElectronAffinity', 'wtd_mean_ElectronAffinity', 'gmean_ElectronAffinity', 'wtd_gmean_ElectronAffinity', 'entropy_ElectronAffinity', 'wtd_entropy_ElectronAffinity', 'range_ElectronAffinity', 'wtd_range_ElectronAffinity', 'std_ElectronAffinity', 'wtd_std_ElectronAffinity', 'mean_FusionHeat', 'wtd_mean_FusionHeat', 'gmean_FusionHeat', 'wtd_gmean_FusionHeat', 'entropy_FusionHeat', 'wtd_entropy_FusionHeat', 'range_FusionHeat', 'wtd_range_FusionHeat', 'std_FusionHeat', 'wtd_std_FusionHeat', 'mean_ThermalConductivity', 'wtd_mean_ThermalConductivity', 'gmean_ThermalConductivity', 'wtd_gmean_ThermalConductivity', 'entropy_ThermalConductivity', 'wtd_entropy_ThermalConductivity', 'range_ThermalConductivity', 'wtd_range_ThermalConductivity', 'std_ThermalConductivity', 'wtd_std_ThermalConductivity', 'mean_Valence', 'wtd_mean_Valence', 'gmean_Valence', 'wtd_gmean_Valence', 'entropy_Valence', 'wtd_entropy_Valence', 'range_Valence', 'wtd_range_Valence', 'std_Valence', 'wtd_std_Valence', 'critical_temp']\n"
     ]
    }
   ],
   "source": [
    "print(featureList)"
   ]
  },
  {
   "cell_type": "code",
   "execution_count": 15,
   "metadata": {},
   "outputs": [],
   "source": [
    "correlationList = []\n",
    "for feature in featureList:\n",
    "    if feature == 'critical_temp':\n",
    "        continue\n",
    "    correlationList.append( { 'feature': feature, 'corr': df['critical_temp'].corr(df[feature], method='spearman') } )"
   ]
  },
  {
   "cell_type": "code",
   "execution_count": 40,
   "metadata": {},
   "outputs": [
    {
     "output_type": "stream",
     "name": "stdout",
     "text": [
      "[-0.21351158670485923, 0.038044152509424965, 0.08852880224766674, -0.026554684405774076, 0.08016668678882898, -0.22752403647193628, -0.33664413493421286, 0.04522393969724655, 0.15085518855172833, 0.11829380786789191, 0.09523375542211875, 0.09368629534159588, 0.026252759580794375, 0.07174721255018641, 0.019477821530321047, -0.19299455057702117, -0.33952624785778435, 0.17757747675821425, 0.09678159652307793, 0.18335952177920267, 0.011609563178406966, 0.0016495992524417581, 0.07936719323636926, -0.09582660984610897, 0.06635428748946226, -0.17920242154347615, -0.35277637771970893, 0.17223128016649866, 0.0849268207007798, 0.19858336109451336, 0.10740750984073828, -0.047734236568426264, 0.000744944624713517, -0.207105811444805, -0.011840145291938123, -0.2523411274893473, -0.3550665787587796, 0.06422093706486057, 0.1440408785841998, 0.0808528468326187, 0.012984525822062287, 0.17107265995324658, 0.10138926370645275, 0.17176239337100302, 0.1362604431176812, -0.12625001217962808, -0.14816688638721026, -0.14857717305647808, -0.011752755557376846, -0.003574606102594056, -0.04796415010754701, 0.024230575518815956, 0.10705589302905576, -0.12457231276747237, 0.0827754929762314, -0.18891511738571473, -0.2585964333412742, -0.03014085900720143, 0.22464655734647596, 0.13502968424655262, 0.12984799282721085, 0.01018422164969462, 0.0803943102709315, -0.18053394332009803, -0.050073447736677636, -0.18809240620545084, -0.23477910754089246, 0.0278850210736978, 0.14425062970667935, 0.21963742876645254, 0.12209725357931385, -0.1136858508083525, -0.4113146802892647, -0.10944700416892818, -0.41071122637398105, -0.1957267887478111, -0.39765053520981825, -0.12181315796707881, 0.11302750240650487, -0.0695228832262526, -0.34278516196172]\n"
     ]
    }
   ],
   "source": [
    "print([item['corr'] for item in correlationList])"
   ]
  },
  {
   "cell_type": "code",
   "execution_count": 35,
   "metadata": {},
   "outputs": [],
   "source": [
    "goodCorrelationList = list(\n",
    "    filter(lambda x: x['corr'] > 0.85 or x['corr'] < -0.85, correlationList)\n",
    ")     "
   ]
  },
  {
   "cell_type": "code",
   "execution_count": 36,
   "metadata": {},
   "outputs": [
    {
     "output_type": "execute_result",
     "data": {
      "text/plain": [
       "0"
      ]
     },
     "metadata": {},
     "execution_count": 36
    }
   ],
   "source": [
    "len(goodCorrelationList)"
   ]
  },
  {
   "cell_type": "code",
   "execution_count": 37,
   "metadata": {},
   "outputs": [],
   "source": [
    "#sem uma lista de correlações boas, usamos toda a lista de features para alimentar os modelos"
   ]
  },
  {
   "cell_type": "code",
   "execution_count": 38,
   "metadata": {},
   "outputs": [],
   "source": [
    "notUseless_correlationList = list(\n",
    "    filter(lambda x: x['corr'] > 0.50 or x['corr'] < -0.50, correlationList)\n",
    ")"
   ]
  },
  {
   "cell_type": "code",
   "execution_count": 39,
   "metadata": {},
   "outputs": [
    {
     "output_type": "execute_result",
     "data": {
      "text/plain": [
       "0"
      ]
     },
     "metadata": {},
     "execution_count": 39
    }
   ],
   "source": [
    "len(notUseless_correlationList)"
   ]
  },
  {
   "source": [
    "vou mentir não bagulho ta tenso pro pai ja"
   ],
   "cell_type": "markdown",
   "metadata": {}
  }
 ],
 "metadata": {
  "kernelspec": {
   "display_name": "Python 3",
   "language": "python",
   "name": "python3"
  },
  "language_info": {
   "codemirror_mode": {
    "name": "ipython",
    "version": 3
   },
   "file_extension": ".py",
   "mimetype": "text/x-python",
   "name": "python",
   "nbconvert_exporter": "python",
   "pygments_lexer": "ipython3",
   "version": "3.7.7-final"
  }
 },
 "nbformat": 4,
 "nbformat_minor": 4
}