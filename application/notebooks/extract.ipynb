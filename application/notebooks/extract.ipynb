{
 "metadata": {
  "language_info": {
   "codemirror_mode": {
    "name": "ipython",
    "version": 3
   },
   "file_extension": ".py",
   "mimetype": "text/x-python",
   "name": "python",
   "nbconvert_exporter": "python",
   "pygments_lexer": "ipython3",
   "version": "3.7.7-final"
  },
  "orig_nbformat": 2,
  "kernelspec": {
   "name": "python3",
   "display_name": "Python 3.7.7 64-bit ('base': conda)",
   "metadata": {
    "interpreter": {
     "hash": "ff9b6033e4e5bfa856b14a701d4fbd62eaf3968921bdcaa1c958afdae5de6108"
    }
   }
  }
 },
 "nbformat": 4,
 "nbformat_minor": 2,
 "cells": [
  {
   "cell_type": "code",
   "execution_count": 1,
   "metadata": {},
   "outputs": [],
   "source": [
    "import os\n",
    "#upper folder where the module is located\n",
    "os.chdir('./../')"
   ]
  },
  {
   "cell_type": "code",
   "execution_count": 2,
   "metadata": {},
   "outputs": [
    {
     "output_type": "stream",
     "name": "stdout",
     "text": [
      "H2O\n<class 'str'>\n{'H': 2, 'O': 1}\n"
     ]
    }
   ],
   "source": [
    "from makeup import makeup"
   ]
  },
  {
   "cell_type": "code",
   "execution_count": 3,
   "metadata": {},
   "outputs": [
    {
     "output_type": "stream",
     "name": "stdout",
     "text": [
      "C6H12O6\n<class 'str'>\n"
     ]
    }
   ],
   "source": [
    "element = 'C6H12O6'\n",
    "element = makeup(element)"
   ]
  },
  {
   "cell_type": "code",
   "execution_count": 4,
   "metadata": {},
   "outputs": [],
   "source": [
    "import pandas as pd"
   ]
  },
  {
   "cell_type": "code",
   "execution_count": 5,
   "metadata": {},
   "outputs": [],
   "source": [
    "subset_table = pd.read_csv('./../superconduct/subset_element_data.csv')"
   ]
  },
  {
   "cell_type": "code",
   "execution_count": 6,
   "metadata": {},
   "outputs": [
    {
     "output_type": "execute_result",
     "data": {
      "text/plain": [
       "  Unnamed: 0 Element  AtomicMass  FirstIonizationEnergy  AtomicRadius  \\\n",
       "0   hydrogen       H    1.007940                 1311.3            53   \n",
       "1     helium      He    4.002602                 2361.3            31   \n",
       "2    lithium      Li    6.941000                  519.9           167   \n",
       "3  beryllium      Be    9.012182                  898.8           112   \n",
       "4      boron       B   10.811000                  800.2            87   \n",
       "\n",
       "     Density  ElectronAffinity  FusionHeat  ThermalConductivity  Valence  \n",
       "0     0.0899              74.3       0.558               0.1805        1  \n",
       "1     0.1785               1.5       0.020               0.1513        0  \n",
       "2   535.0000              61.1       3.000              85.0000        1  \n",
       "3  1848.0000               1.5       7.950             190.0000        2  \n",
       "4  2460.0000              28.2      50.000              27.0000        3  "
      ],
      "text/html": "<div>\n<style scoped>\n    .dataframe tbody tr th:only-of-type {\n        vertical-align: middle;\n    }\n\n    .dataframe tbody tr th {\n        vertical-align: top;\n    }\n\n    .dataframe thead th {\n        text-align: right;\n    }\n</style>\n<table border=\"1\" class=\"dataframe\">\n  <thead>\n    <tr style=\"text-align: right;\">\n      <th></th>\n      <th>Unnamed: 0</th>\n      <th>Element</th>\n      <th>AtomicMass</th>\n      <th>FirstIonizationEnergy</th>\n      <th>AtomicRadius</th>\n      <th>Density</th>\n      <th>ElectronAffinity</th>\n      <th>FusionHeat</th>\n      <th>ThermalConductivity</th>\n      <th>Valence</th>\n    </tr>\n  </thead>\n  <tbody>\n    <tr>\n      <th>0</th>\n      <td>hydrogen</td>\n      <td>H</td>\n      <td>1.007940</td>\n      <td>1311.3</td>\n      <td>53</td>\n      <td>0.0899</td>\n      <td>74.3</td>\n      <td>0.558</td>\n      <td>0.1805</td>\n      <td>1</td>\n    </tr>\n    <tr>\n      <th>1</th>\n      <td>helium</td>\n      <td>He</td>\n      <td>4.002602</td>\n      <td>2361.3</td>\n      <td>31</td>\n      <td>0.1785</td>\n      <td>1.5</td>\n      <td>0.020</td>\n      <td>0.1513</td>\n      <td>0</td>\n    </tr>\n    <tr>\n      <th>2</th>\n      <td>lithium</td>\n      <td>Li</td>\n      <td>6.941000</td>\n      <td>519.9</td>\n      <td>167</td>\n      <td>535.0000</td>\n      <td>61.1</td>\n      <td>3.000</td>\n      <td>85.0000</td>\n      <td>1</td>\n    </tr>\n    <tr>\n      <th>3</th>\n      <td>beryllium</td>\n      <td>Be</td>\n      <td>9.012182</td>\n      <td>898.8</td>\n      <td>112</td>\n      <td>1848.0000</td>\n      <td>1.5</td>\n      <td>7.950</td>\n      <td>190.0000</td>\n      <td>2</td>\n    </tr>\n    <tr>\n      <th>4</th>\n      <td>boron</td>\n      <td>B</td>\n      <td>10.811000</td>\n      <td>800.2</td>\n      <td>87</td>\n      <td>2460.0000</td>\n      <td>28.2</td>\n      <td>50.000</td>\n      <td>27.0000</td>\n      <td>3</td>\n    </tr>\n  </tbody>\n</table>\n</div>"
     },
     "metadata": {},
     "execution_count": 6
    }
   ],
   "source": [
    "subset_table.head()"
   ]
  },
  {
   "cell_type": "code",
   "execution_count": 7,
   "metadata": {},
   "outputs": [],
   "source": [
    "import numpy as np"
   ]
  },
  {
   "cell_type": "code",
   "execution_count": 8,
   "metadata": {},
   "outputs": [
    {
     "output_type": "execute_result",
     "data": {
      "text/plain": [
       "2.8284271247461903"
      ]
     },
     "metadata": {},
     "execution_count": 8
    }
   ],
   "source": [
    "np.std([1, 3, 5, 7, 9]) ## better than Khan's R implementation btw"
   ]
  },
  {
   "cell_type": "code",
   "execution_count": 9,
   "metadata": {},
   "outputs": [
    {
     "output_type": "stream",
     "name": "stdout",
     "text": [
      "  Unnamed: 0 Element  AtomicMass  FirstIonizationEnergy  AtomicRadius  \\\n5     carbon       C     12.0107                 1085.7            67   \n\n   Density  ElectronAffinity  FusionHeat  ThermalConductivity  Valence  \n5   2260.0             155.4       105.0                140.0        4  \n  Unnamed: 0 Element  AtomicMass  FirstIonizationEnergy  AtomicRadius  \\\n0   hydrogen       H     1.00794                 1311.3            53   \n\n   Density  ElectronAffinity  FusionHeat  ThermalConductivity  Valence  \n0   0.0899              74.3       0.558               0.1805        1  \n  Unnamed: 0 Element  AtomicMass  FirstIonizationEnergy  AtomicRadius  \\\n7     oxygen       O     15.9994                 1313.1            48   \n\n   Density  ElectronAffinity  FusionHeat  ThermalConductivity  Valence  \n7    1.429             142.5       0.222              0.02658        2  \n"
     ]
    }
   ],
   "source": [
    "for chem in element.keys():\n",
    "    temp = subset_table.loc[subset_table['Element'] == chem]\n",
    "    print(temp)"
   ]
  }
 ]
}