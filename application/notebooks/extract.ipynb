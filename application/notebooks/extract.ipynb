{
 "metadata": {
  "language_info": {
   "codemirror_mode": {
    "name": "ipython",
    "version": 3
   },
   "file_extension": ".py",
   "mimetype": "text/x-python",
   "name": "python",
   "nbconvert_exporter": "python",
   "pygments_lexer": "ipython3",
   "version": "3.7.7-final"
  },
  "orig_nbformat": 2,
  "kernelspec": {
   "name": "python3",
   "display_name": "Python 3.7.7 64-bit ('base': conda)",
   "metadata": {
    "interpreter": {
     "hash": "ff9b6033e4e5bfa856b14a701d4fbd62eaf3968921bdcaa1c958afdae5de6108"
    }
   }
  }
 },
 "nbformat": 4,
 "nbformat_minor": 2,
 "cells": [
  {
   "source": [
    "import os\n",
    "#upper folder where the module is located\n",
    "os.chdir('./../')"
   ],
   "cell_type": "code",
   "metadata": {},
   "execution_count": 1,
   "outputs": []
  },
  {
   "cell_type": "code",
   "execution_count": 2,
   "metadata": {},
   "outputs": [
    {
     "output_type": "stream",
     "name": "stdout",
     "text": [
      "NaCl\n<class 'str'>\n{'Na': 1, 'Cl': 1}\n{'Na': 0.5, 'Cl': 0.5}\n"
     ]
    }
   ],
   "source": [
    "from makeup import makeup\n",
    "from prob_ratios import prob_ratios"
   ]
  },
  {
   "cell_type": "code",
   "execution_count": 3,
   "metadata": {},
   "outputs": [
    {
     "output_type": "stream",
     "name": "stdout",
     "text": [
      "C6H12O6\n<class 'str'>\n"
     ]
    }
   ],
   "source": [
    "element = 'C6H12O6'\n",
    "element = makeup(element)"
   ]
  },
  {
   "cell_type": "code",
   "execution_count": 4,
   "metadata": {},
   "outputs": [],
   "source": [
    "import pandas as pd"
   ]
  },
  {
   "cell_type": "code",
   "execution_count": 5,
   "metadata": {},
   "outputs": [],
   "source": [
    "subset_table = pd.read_csv('./../superconduct/subset_element_data_fixed.csv')"
   ]
  },
  {
   "cell_type": "code",
   "execution_count": 6,
   "metadata": {},
   "outputs": [
    {
     "output_type": "execute_result",
     "data": {
      "text/plain": [
       "  FullNameElement Element  AtomicMass  FirstIonizationEnergy  AtomicRadius  \\\n",
       "0        hydrogen       H    1.007940                 1311.3            53   \n",
       "1          helium      He    4.002602                 2361.3            31   \n",
       "2         lithium      Li    6.941000                  519.9           167   \n",
       "3       beryllium      Be    9.012182                  898.8           112   \n",
       "4           boron       B   10.811000                  800.2            87   \n",
       "\n",
       "     Density  ElectronAffinity  FusionHeat  ThermalConductivity  Valence  \n",
       "0     0.0899              74.3       0.558               0.1805        1  \n",
       "1     0.1785               1.5       0.020               0.1513        0  \n",
       "2   535.0000              61.1       3.000              85.0000        1  \n",
       "3  1848.0000               1.5       7.950             190.0000        2  \n",
       "4  2460.0000              28.2      50.000              27.0000        3  "
      ],
      "text/html": "<div>\n<style scoped>\n    .dataframe tbody tr th:only-of-type {\n        vertical-align: middle;\n    }\n\n    .dataframe tbody tr th {\n        vertical-align: top;\n    }\n\n    .dataframe thead th {\n        text-align: right;\n    }\n</style>\n<table border=\"1\" class=\"dataframe\">\n  <thead>\n    <tr style=\"text-align: right;\">\n      <th></th>\n      <th>FullNameElement</th>\n      <th>Element</th>\n      <th>AtomicMass</th>\n      <th>FirstIonizationEnergy</th>\n      <th>AtomicRadius</th>\n      <th>Density</th>\n      <th>ElectronAffinity</th>\n      <th>FusionHeat</th>\n      <th>ThermalConductivity</th>\n      <th>Valence</th>\n    </tr>\n  </thead>\n  <tbody>\n    <tr>\n      <th>0</th>\n      <td>hydrogen</td>\n      <td>H</td>\n      <td>1.007940</td>\n      <td>1311.3</td>\n      <td>53</td>\n      <td>0.0899</td>\n      <td>74.3</td>\n      <td>0.558</td>\n      <td>0.1805</td>\n      <td>1</td>\n    </tr>\n    <tr>\n      <th>1</th>\n      <td>helium</td>\n      <td>He</td>\n      <td>4.002602</td>\n      <td>2361.3</td>\n      <td>31</td>\n      <td>0.1785</td>\n      <td>1.5</td>\n      <td>0.020</td>\n      <td>0.1513</td>\n      <td>0</td>\n    </tr>\n    <tr>\n      <th>2</th>\n      <td>lithium</td>\n      <td>Li</td>\n      <td>6.941000</td>\n      <td>519.9</td>\n      <td>167</td>\n      <td>535.0000</td>\n      <td>61.1</td>\n      <td>3.000</td>\n      <td>85.0000</td>\n      <td>1</td>\n    </tr>\n    <tr>\n      <th>3</th>\n      <td>beryllium</td>\n      <td>Be</td>\n      <td>9.012182</td>\n      <td>898.8</td>\n      <td>112</td>\n      <td>1848.0000</td>\n      <td>1.5</td>\n      <td>7.950</td>\n      <td>190.0000</td>\n      <td>2</td>\n    </tr>\n    <tr>\n      <th>4</th>\n      <td>boron</td>\n      <td>B</td>\n      <td>10.811000</td>\n      <td>800.2</td>\n      <td>87</td>\n      <td>2460.0000</td>\n      <td>28.2</td>\n      <td>50.000</td>\n      <td>27.0000</td>\n      <td>3</td>\n    </tr>\n  </tbody>\n</table>\n</div>"
     },
     "metadata": {},
     "execution_count": 6
    }
   ],
   "source": [
    "subset_table.head()"
   ]
  },
  {
   "cell_type": "code",
   "execution_count": 7,
   "metadata": {},
   "outputs": [],
   "source": [
    "import numpy as np"
   ]
  },
  {
   "cell_type": "code",
   "execution_count": 8,
   "metadata": {},
   "outputs": [],
   "source": [
    "subset_selected = []\n",
    "for chem in element.keys():\n",
    "    subset_selected.append(subset_table.loc[subset_table['Element'] == chem].to_dict())"
   ]
  },
  {
   "cell_type": "code",
   "execution_count": 9,
   "metadata": {},
   "outputs": [],
   "source": [
    "tmp = 0\n",
    "for row in subset_selected:\n",
    "    tmp = list(row['FullNameElement'].keys())[0]\n",
    "    for key in row.keys():\n",
    "        row[key] = row[key][tmp]\n",
    "\n",
    "#unpacking the broken dict"
   ]
  },
  {
   "cell_type": "code",
   "execution_count": 10,
   "metadata": {},
   "outputs": [],
   "source": [
    "subset_selected_df = pd.DataFrame(subset_selected)"
   ]
  },
  {
   "cell_type": "code",
   "execution_count": 11,
   "metadata": {},
   "outputs": [
    {
     "output_type": "execute_result",
     "data": {
      "text/plain": [
       "  FullNameElement Element  AtomicMass  FirstIonizationEnergy  AtomicRadius  \\\n",
       "0          carbon       C    12.01070                 1085.7            67   \n",
       "1        hydrogen       H     1.00794                 1311.3            53   \n",
       "2          oxygen       O    15.99940                 1313.1            48   \n",
       "\n",
       "     Density  ElectronAffinity  FusionHeat  ThermalConductivity  Valence  \n",
       "0  2260.0000             155.4     105.000            140.00000        4  \n",
       "1     0.0899              74.3       0.558              0.18050        1  \n",
       "2     1.4290             142.5       0.222              0.02658        2  "
      ],
      "text/html": "<div>\n<style scoped>\n    .dataframe tbody tr th:only-of-type {\n        vertical-align: middle;\n    }\n\n    .dataframe tbody tr th {\n        vertical-align: top;\n    }\n\n    .dataframe thead th {\n        text-align: right;\n    }\n</style>\n<table border=\"1\" class=\"dataframe\">\n  <thead>\n    <tr style=\"text-align: right;\">\n      <th></th>\n      <th>FullNameElement</th>\n      <th>Element</th>\n      <th>AtomicMass</th>\n      <th>FirstIonizationEnergy</th>\n      <th>AtomicRadius</th>\n      <th>Density</th>\n      <th>ElectronAffinity</th>\n      <th>FusionHeat</th>\n      <th>ThermalConductivity</th>\n      <th>Valence</th>\n    </tr>\n  </thead>\n  <tbody>\n    <tr>\n      <th>0</th>\n      <td>carbon</td>\n      <td>C</td>\n      <td>12.01070</td>\n      <td>1085.7</td>\n      <td>67</td>\n      <td>2260.0000</td>\n      <td>155.4</td>\n      <td>105.000</td>\n      <td>140.00000</td>\n      <td>4</td>\n    </tr>\n    <tr>\n      <th>1</th>\n      <td>hydrogen</td>\n      <td>H</td>\n      <td>1.00794</td>\n      <td>1311.3</td>\n      <td>53</td>\n      <td>0.0899</td>\n      <td>74.3</td>\n      <td>0.558</td>\n      <td>0.18050</td>\n      <td>1</td>\n    </tr>\n    <tr>\n      <th>2</th>\n      <td>oxygen</td>\n      <td>O</td>\n      <td>15.99940</td>\n      <td>1313.1</td>\n      <td>48</td>\n      <td>1.4290</td>\n      <td>142.5</td>\n      <td>0.222</td>\n      <td>0.02658</td>\n      <td>2</td>\n    </tr>\n  </tbody>\n</table>\n</div>"
     },
     "metadata": {},
     "execution_count": 11
    }
   ],
   "source": [
    "subset_selected_df.head()"
   ]
  },
  {
   "cell_type": "code",
   "execution_count": 12,
   "metadata": {},
   "outputs": [
    {
     "output_type": "stream",
     "name": "stdout",
     "text": [
      "{'C': 0.25, 'H': 0.5, 'O': 0.25}\n"
     ]
    }
   ],
   "source": [
    "ratios = prob_ratios(element)\n",
    "print(ratios)"
   ]
  },
  {
   "cell_type": "code",
   "execution_count": 22,
   "metadata": {},
   "outputs": [],
   "source": [
    "subset_selected_df['ProbValues'] = list(ratios.values())\n",
    "#this form just adds the array in the dataframe. Although it works, i'm worried of this cause some ordering problem inn the future."
   ]
  },
  {
   "cell_type": "code",
   "execution_count": 23,
   "metadata": {},
   "outputs": [
    {
     "output_type": "execute_result",
     "data": {
      "text/plain": [
       "  FullNameElement Element  AtomicMass  FirstIonizationEnergy  AtomicRadius  \\\n",
       "0          carbon       C    12.01070                 1085.7            67   \n",
       "1        hydrogen       H     1.00794                 1311.3            53   \n",
       "2          oxygen       O    15.99940                 1313.1            48   \n",
       "\n",
       "     Density  ElectronAffinity  FusionHeat  ThermalConductivity  Valence  \\\n",
       "0  2260.0000             155.4     105.000            140.00000        4   \n",
       "1     0.0899              74.3       0.558              0.18050        1   \n",
       "2     1.4290             142.5       0.222              0.02658        2   \n",
       "\n",
       "   ProbValues  \n",
       "0        0.25  \n",
       "1        0.50  \n",
       "2        0.25  "
      ],
      "text/html": "<div>\n<style scoped>\n    .dataframe tbody tr th:only-of-type {\n        vertical-align: middle;\n    }\n\n    .dataframe tbody tr th {\n        vertical-align: top;\n    }\n\n    .dataframe thead th {\n        text-align: right;\n    }\n</style>\n<table border=\"1\" class=\"dataframe\">\n  <thead>\n    <tr style=\"text-align: right;\">\n      <th></th>\n      <th>FullNameElement</th>\n      <th>Element</th>\n      <th>AtomicMass</th>\n      <th>FirstIonizationEnergy</th>\n      <th>AtomicRadius</th>\n      <th>Density</th>\n      <th>ElectronAffinity</th>\n      <th>FusionHeat</th>\n      <th>ThermalConductivity</th>\n      <th>Valence</th>\n      <th>ProbValues</th>\n    </tr>\n  </thead>\n  <tbody>\n    <tr>\n      <th>0</th>\n      <td>carbon</td>\n      <td>C</td>\n      <td>12.01070</td>\n      <td>1085.7</td>\n      <td>67</td>\n      <td>2260.0000</td>\n      <td>155.4</td>\n      <td>105.000</td>\n      <td>140.00000</td>\n      <td>4</td>\n      <td>0.25</td>\n    </tr>\n    <tr>\n      <th>1</th>\n      <td>hydrogen</td>\n      <td>H</td>\n      <td>1.00794</td>\n      <td>1311.3</td>\n      <td>53</td>\n      <td>0.0899</td>\n      <td>74.3</td>\n      <td>0.558</td>\n      <td>0.18050</td>\n      <td>1</td>\n      <td>0.50</td>\n    </tr>\n    <tr>\n      <th>2</th>\n      <td>oxygen</td>\n      <td>O</td>\n      <td>15.99940</td>\n      <td>1313.1</td>\n      <td>48</td>\n      <td>1.4290</td>\n      <td>142.5</td>\n      <td>0.222</td>\n      <td>0.02658</td>\n      <td>2</td>\n      <td>0.25</td>\n    </tr>\n  </tbody>\n</table>\n</div>"
     },
     "metadata": {},
     "execution_count": 23
    }
   ],
   "source": [
    "subset_selected_df.head()"
   ]
  },
  {
   "cell_type": "code",
   "execution_count": 13,
   "metadata": {},
   "outputs": [],
   "source": [
    "#testing a new form\n",
    "for chem in list(ratios.items()):\n",
    "    subset_selected_df.loc[subset_selected_df.Element == chem[0], 'ProbRatios'] = chem[1]\n",
    "\n",
    "#probably keeping this."
   ]
  },
  {
   "cell_type": "code",
   "execution_count": 14,
   "metadata": {},
   "outputs": [
    {
     "output_type": "execute_result",
     "data": {
      "text/plain": [
       "  FullNameElement Element  AtomicMass  FirstIonizationEnergy  AtomicRadius  \\\n",
       "0          carbon       C    12.01070                 1085.7            67   \n",
       "1        hydrogen       H     1.00794                 1311.3            53   \n",
       "2          oxygen       O    15.99940                 1313.1            48   \n",
       "\n",
       "     Density  ElectronAffinity  FusionHeat  ThermalConductivity  Valence  \\\n",
       "0  2260.0000             155.4     105.000            140.00000        4   \n",
       "1     0.0899              74.3       0.558              0.18050        1   \n",
       "2     1.4290             142.5       0.222              0.02658        2   \n",
       "\n",
       "   ProbRatios  \n",
       "0        0.25  \n",
       "1        0.50  \n",
       "2        0.25  "
      ],
      "text/html": "<div>\n<style scoped>\n    .dataframe tbody tr th:only-of-type {\n        vertical-align: middle;\n    }\n\n    .dataframe tbody tr th {\n        vertical-align: top;\n    }\n\n    .dataframe thead th {\n        text-align: right;\n    }\n</style>\n<table border=\"1\" class=\"dataframe\">\n  <thead>\n    <tr style=\"text-align: right;\">\n      <th></th>\n      <th>FullNameElement</th>\n      <th>Element</th>\n      <th>AtomicMass</th>\n      <th>FirstIonizationEnergy</th>\n      <th>AtomicRadius</th>\n      <th>Density</th>\n      <th>ElectronAffinity</th>\n      <th>FusionHeat</th>\n      <th>ThermalConductivity</th>\n      <th>Valence</th>\n      <th>ProbRatios</th>\n    </tr>\n  </thead>\n  <tbody>\n    <tr>\n      <th>0</th>\n      <td>carbon</td>\n      <td>C</td>\n      <td>12.01070</td>\n      <td>1085.7</td>\n      <td>67</td>\n      <td>2260.0000</td>\n      <td>155.4</td>\n      <td>105.000</td>\n      <td>140.00000</td>\n      <td>4</td>\n      <td>0.25</td>\n    </tr>\n    <tr>\n      <th>1</th>\n      <td>hydrogen</td>\n      <td>H</td>\n      <td>1.00794</td>\n      <td>1311.3</td>\n      <td>53</td>\n      <td>0.0899</td>\n      <td>74.3</td>\n      <td>0.558</td>\n      <td>0.18050</td>\n      <td>1</td>\n      <td>0.50</td>\n    </tr>\n    <tr>\n      <th>2</th>\n      <td>oxygen</td>\n      <td>O</td>\n      <td>15.99940</td>\n      <td>1313.1</td>\n      <td>48</td>\n      <td>1.4290</td>\n      <td>142.5</td>\n      <td>0.222</td>\n      <td>0.02658</td>\n      <td>2</td>\n      <td>0.25</td>\n    </tr>\n  </tbody>\n</table>\n</div>"
     },
     "metadata": {},
     "execution_count": 14
    }
   ],
   "source": [
    "subset_selected_df.head()"
   ]
  },
  {
   "cell_type": "code",
   "execution_count": null,
   "metadata": {},
   "outputs": [],
   "source": []
  }
 ]
}