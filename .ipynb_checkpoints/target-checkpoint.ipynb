{
 "cells": [
  {
   "cell_type": "code",
   "execution_count": 71,
   "metadata": {},
   "outputs": [],
   "source": [
    "import pandas as pd\n",
    "from sklearn.model_selection import train_test_split\n",
    "from sklearn.impute import SimpleImputer\n",
    "from xgboost import XGBRegressor\n",
    "from sklearn.metrics import mean_absolute_error\n",
    "import matplotlib.pyplot as plt\n",
    "from math import sqrt\n",
    "import numpy as np\n",
    "from thermo import simple_formula_parser\n",
    "import datetime"
   ]
  },
  {
   "cell_type": "code",
   "execution_count": 2,
   "metadata": {},
   "outputs": [
    {
     "data": {
      "text/html": [
       "<div>\n",
       "<style scoped>\n",
       "    .dataframe tbody tr th:only-of-type {\n",
       "        vertical-align: middle;\n",
       "    }\n",
       "\n",
       "    .dataframe tbody tr th {\n",
       "        vertical-align: top;\n",
       "    }\n",
       "\n",
       "    .dataframe thead th {\n",
       "        text-align: right;\n",
       "    }\n",
       "</style>\n",
       "<table border=\"1\" class=\"dataframe\">\n",
       "  <thead>\n",
       "    <tr style=\"text-align: right;\">\n",
       "      <th></th>\n",
       "      <th>Unnamed: 0</th>\n",
       "      <th>Unnamed: 0.1</th>\n",
       "      <th>number_of_elements</th>\n",
       "      <th>mean_atomic_mass</th>\n",
       "      <th>wtd_mean_atomic_mass</th>\n",
       "      <th>gmean_atomic_mass</th>\n",
       "      <th>wtd_gmean_atomic_mass</th>\n",
       "      <th>entropy_atomic_mass</th>\n",
       "      <th>wtd_entropy_atomic_mass</th>\n",
       "      <th>range_atomic_mass</th>\n",
       "      <th>...</th>\n",
       "      <th>Au</th>\n",
       "      <th>Hg</th>\n",
       "      <th>Tl</th>\n",
       "      <th>Pb</th>\n",
       "      <th>Bi</th>\n",
       "      <th>Po</th>\n",
       "      <th>At</th>\n",
       "      <th>Rn</th>\n",
       "      <th>critical_temp</th>\n",
       "      <th>material</th>\n",
       "    </tr>\n",
       "  </thead>\n",
       "  <tbody>\n",
       "    <tr>\n",
       "      <th>0</th>\n",
       "      <td>0</td>\n",
       "      <td>16</td>\n",
       "      <td>5</td>\n",
       "      <td>92.729214</td>\n",
       "      <td>61.051113</td>\n",
       "      <td>73.132787</td>\n",
       "      <td>37.513930</td>\n",
       "      <td>1.449309</td>\n",
       "      <td>1.146919</td>\n",
       "      <td>122.90607</td>\n",
       "      <td>...</td>\n",
       "      <td>0.0</td>\n",
       "      <td>0.0</td>\n",
       "      <td>0.0</td>\n",
       "      <td>0.0</td>\n",
       "      <td>0.0</td>\n",
       "      <td>0</td>\n",
       "      <td>0</td>\n",
       "      <td>0</td>\n",
       "      <td>82.0</td>\n",
       "      <td>Y1Ba1.5Ca0.5Cu3O7</td>\n",
       "    </tr>\n",
       "    <tr>\n",
       "      <th>1</th>\n",
       "      <td>1</td>\n",
       "      <td>28</td>\n",
       "      <td>4</td>\n",
       "      <td>64.632218</td>\n",
       "      <td>55.790060</td>\n",
       "      <td>48.775792</td>\n",
       "      <td>35.178830</td>\n",
       "      <td>1.139875</td>\n",
       "      <td>0.931491</td>\n",
       "      <td>122.90607</td>\n",
       "      <td>...</td>\n",
       "      <td>0.0</td>\n",
       "      <td>0.0</td>\n",
       "      <td>0.0</td>\n",
       "      <td>0.0</td>\n",
       "      <td>0.0</td>\n",
       "      <td>0</td>\n",
       "      <td>0</td>\n",
       "      <td>0</td>\n",
       "      <td>76.9</td>\n",
       "      <td>Yb16Ba1Cu2O</td>\n",
       "    </tr>\n",
       "    <tr>\n",
       "      <th>2</th>\n",
       "      <td>2</td>\n",
       "      <td>29</td>\n",
       "      <td>4</td>\n",
       "      <td>97.481600</td>\n",
       "      <td>152.464120</td>\n",
       "      <td>70.110388</td>\n",
       "      <td>137.387467</td>\n",
       "      <td>1.154762</td>\n",
       "      <td>0.387216</td>\n",
       "      <td>157.05460</td>\n",
       "      <td>...</td>\n",
       "      <td>0.0</td>\n",
       "      <td>0.0</td>\n",
       "      <td>0.0</td>\n",
       "      <td>0.0</td>\n",
       "      <td>0.0</td>\n",
       "      <td>0</td>\n",
       "      <td>0</td>\n",
       "      <td>0</td>\n",
       "      <td>65.3</td>\n",
       "      <td>Yb1.8Ba0.2Cu1O</td>\n",
       "    </tr>\n",
       "    <tr>\n",
       "      <th>3</th>\n",
       "      <td>3</td>\n",
       "      <td>30</td>\n",
       "      <td>4</td>\n",
       "      <td>97.481600</td>\n",
       "      <td>104.627000</td>\n",
       "      <td>70.110388</td>\n",
       "      <td>73.428983</td>\n",
       "      <td>1.154762</td>\n",
       "      <td>0.809544</td>\n",
       "      <td>157.05460</td>\n",
       "      <td>...</td>\n",
       "      <td>0.0</td>\n",
       "      <td>0.0</td>\n",
       "      <td>0.0</td>\n",
       "      <td>0.0</td>\n",
       "      <td>0.0</td>\n",
       "      <td>0</td>\n",
       "      <td>0</td>\n",
       "      <td>0</td>\n",
       "      <td>78.6</td>\n",
       "      <td>Yb6Ba1Cu1O</td>\n",
       "    </tr>\n",
       "    <tr>\n",
       "      <th>4</th>\n",
       "      <td>4</td>\n",
       "      <td>31</td>\n",
       "      <td>4</td>\n",
       "      <td>97.481600</td>\n",
       "      <td>139.466267</td>\n",
       "      <td>70.110388</td>\n",
       "      <td>115.819575</td>\n",
       "      <td>1.154762</td>\n",
       "      <td>0.605632</td>\n",
       "      <td>157.05460</td>\n",
       "      <td>...</td>\n",
       "      <td>0.0</td>\n",
       "      <td>0.0</td>\n",
       "      <td>0.0</td>\n",
       "      <td>0.0</td>\n",
       "      <td>0.0</td>\n",
       "      <td>0</td>\n",
       "      <td>0</td>\n",
       "      <td>0</td>\n",
       "      <td>79.3</td>\n",
       "      <td>Yb1.62La0.18Ba0.18Sr0.02Cu1O</td>\n",
       "    </tr>\n",
       "  </tbody>\n",
       "</table>\n",
       "<p>5 rows × 171 columns</p>\n",
       "</div>"
      ],
      "text/plain": [
       "   Unnamed: 0  Unnamed: 0.1  number_of_elements  mean_atomic_mass  \\\n",
       "0           0            16                   5         92.729214   \n",
       "1           1            28                   4         64.632218   \n",
       "2           2            29                   4         97.481600   \n",
       "3           3            30                   4         97.481600   \n",
       "4           4            31                   4         97.481600   \n",
       "\n",
       "   wtd_mean_atomic_mass  gmean_atomic_mass  wtd_gmean_atomic_mass  \\\n",
       "0             61.051113          73.132787              37.513930   \n",
       "1             55.790060          48.775792              35.178830   \n",
       "2            152.464120          70.110388             137.387467   \n",
       "3            104.627000          70.110388              73.428983   \n",
       "4            139.466267          70.110388             115.819575   \n",
       "\n",
       "   entropy_atomic_mass  wtd_entropy_atomic_mass  range_atomic_mass  ...   Au  \\\n",
       "0             1.449309                 1.146919          122.90607  ...  0.0   \n",
       "1             1.139875                 0.931491          122.90607  ...  0.0   \n",
       "2             1.154762                 0.387216          157.05460  ...  0.0   \n",
       "3             1.154762                 0.809544          157.05460  ...  0.0   \n",
       "4             1.154762                 0.605632          157.05460  ...  0.0   \n",
       "\n",
       "    Hg   Tl   Pb   Bi  Po  At  Rn  critical_temp                      material  \n",
       "0  0.0  0.0  0.0  0.0   0   0   0           82.0             Y1Ba1.5Ca0.5Cu3O7  \n",
       "1  0.0  0.0  0.0  0.0   0   0   0           76.9                   Yb16Ba1Cu2O  \n",
       "2  0.0  0.0  0.0  0.0   0   0   0           65.3                Yb1.8Ba0.2Cu1O  \n",
       "3  0.0  0.0  0.0  0.0   0   0   0           78.6                    Yb6Ba1Cu1O  \n",
       "4  0.0  0.0  0.0  0.0   0   0   0           79.3  Yb1.62La0.18Ba0.18Sr0.02Cu1O  \n",
       "\n",
       "[5 rows x 171 columns]"
      ]
     },
     "execution_count": 2,
     "metadata": {},
     "output_type": "execute_result"
    }
   ],
   "source": [
    "df = pd.read_csv('ybaco_materials_all.csv')\n",
    "df.head()\n"
   ]
  },
  {
   "cell_type": "code",
   "execution_count": 3,
   "metadata": {},
   "outputs": [],
   "source": [
    "y = df['critical_temp']\n",
    "x = df.drop(['critical_temp'], axis=1).drop(['Unnamed: 0'], axis = 1).drop(['Unnamed: 0.1'], axis = 1).select_dtypes(exclude=['object'])"
   ]
  },
  {
   "cell_type": "code",
   "execution_count": 36,
   "metadata": {},
   "outputs": [],
   "source": [
    "train_X, test_X, train_y, test_y = train_test_split(x.values, y.values, test_size=0.3)"
   ]
  },
  {
   "cell_type": "code",
   "execution_count": 35,
   "metadata": {},
   "outputs": [],
   "source": [
    "df_imputer = SimpleImputer()\n",
    "train_X = df_imputer.fit_transform(train_X)\n",
    "test_X = df_imputer.transform(test_X)"
   ]
  },
  {
   "cell_type": "code",
   "execution_count": 6,
   "metadata": {},
   "outputs": [
    {
     "data": {
      "text/plain": [
       "XGBRegressor(alpha=1, base_score=0.5, booster='gbtree', colsample_bylevel=1,\n",
       "             colsample_bynode=1, colsample_bytree=0.5, gamma=0,\n",
       "             importance_type='gain', learning_rate=0.02, max_delta_step=0,\n",
       "             max_depth=16, min_child_weight=1, missing=None, n_estimators=374,\n",
       "             n_jobs=1, nthread=None, objective='reg:squarederror',\n",
       "             random_state=0, reg_alpha=0, reg_lambda=1, scale_pos_weight=1,\n",
       "             seed=None, silent=None, subsample=1, verbosity=1)"
      ]
     },
     "execution_count": 6,
     "metadata": {},
     "output_type": "execute_result"
    }
   ],
   "source": [
    "avg = 0\n",
    "predictions = 0\n",
    "model = XGBRegressor(objective ='reg:squarederror', colsample_bytree = 0.50,learning_rate = 0.02, max_depth = 16, alpha = 1, n_estimators = 374)\n",
    "model.fit(train_X, train_y, verbose=False) # treinando o modelo\n"
   ]
  },
  {
   "cell_type": "code",
   "execution_count": 7,
   "metadata": {},
   "outputs": [],
   "source": [
    "for i in range(1, 26):\n",
    "    predictions = model.predict(test_X) # testando a predição\n",
    "    avg += mean_absolute_error(predictions, test_y)"
   ]
  },
  {
   "cell_type": "code",
   "execution_count": 8,
   "metadata": {},
   "outputs": [
    {
     "name": "stdout",
     "output_type": "stream",
     "text": [
      "rmse value: 3.1547236895650905\n"
     ]
    }
   ],
   "source": [
    "print(\"rmse value: \" + str(sqrt(avg/25)))"
   ]
  },
  {
   "cell_type": "code",
   "execution_count": 9,
   "metadata": {},
   "outputs": [
    {
     "data": {
      "image/png": "[encoded data removed]",
      "text/plain": [
       "<Figure size 432x288 with 1 Axes>"
      ]
     },
     "metadata": {
      "needs_background": "light"
     },
     "output_type": "display_data"
    }
   ],
   "source": [
    "plt.title(\"Predict Tc versus Observed Tc\")\n",
    "plt.plot(test_y, predictions, \"o\", color=\"black\")\n",
    "plt.plot(range(-10, 125), range(-10, 125), color = 'gray')\n",
    "plt.xlabel(\"Observed Tc(K)\")\n",
    "plt.ylabel(\"Predicted Tc(K)\")\n",
    "#plt.show -> plt.savefig\n",
    "plt.show()"
   ]
  },
  {
   "cell_type": "code",
   "execution_count": 11,
   "metadata": {},
   "outputs": [
    {
     "name": "stdout",
     "output_type": "stream",
     "text": [
      "Predicted value for Y1Ba2Cu3O7:  91.63047\n",
      "Observed value for Y1Ba2Cu3O7:  91.85\n"
     ]
    }
   ],
   "source": [
    "ybaco7 = df.loc[df['Unnamed: 0'] == 29]\n",
    "ybaco7 = ybaco7.drop(['material'], axis=1)\n",
    "observedValue = np.array(ybaco7['critical_temp'])\n",
    "ybaco7 = ybaco7.drop(['critical_temp'], axis=1)\n",
    "\n",
    "ybaco7 = ybaco7.drop(['Unnamed: 0'], axis = 1).drop(['Unnamed: 0.1'], axis = 1).select_dtypes(exclude=['object'])\n",
    "\n",
    "ybaco7 = np.array(ybaco7)\n",
    "\n",
    "print(\"Predicted value for Y1Ba2Cu3O7: \", model.predict(ybaco7)[0])\n",
    "print(\"Observed value for Y1Ba2Cu3O7: \", observedValue[0])"
   ]
  },
  {
   "cell_type": "code",
   "execution_count": 12,
   "metadata": {},
   "outputs": [],
   "source": [
    "element_data = pd.read_csv('element_data.csv')"
   ]
  },
  {
   "cell_type": "code",
   "execution_count": 13,
   "metadata": {},
   "outputs": [
    {
     "data": {
      "text/html": [
       "<div>\n",
       "<style scoped>\n",
       "    .dataframe tbody tr th:only-of-type {\n",
       "        vertical-align: middle;\n",
       "    }\n",
       "\n",
       "    .dataframe tbody tr th {\n",
       "        vertical-align: top;\n",
       "    }\n",
       "\n",
       "    .dataframe thead th {\n",
       "        text-align: right;\n",
       "    }\n",
       "</style>\n",
       "<table border=\"1\" class=\"dataframe\">\n",
       "  <thead>\n",
       "    <tr style=\"text-align: right;\">\n",
       "      <th></th>\n",
       "      <th>Unnamed: 0</th>\n",
       "      <th>Element</th>\n",
       "      <th>AtomicMass</th>\n",
       "      <th>AtomicNumber</th>\n",
       "      <th>FirstIonizationEnergy</th>\n",
       "      <th>AtomicRadius</th>\n",
       "      <th>Block</th>\n",
       "      <th>BoilingPoint</th>\n",
       "      <th>BrinellHardness</th>\n",
       "      <th>CovalentRadius</th>\n",
       "      <th>...</th>\n",
       "      <th>Series</th>\n",
       "      <th>SoundSpeed</th>\n",
       "      <th>SpaceGroupNumber</th>\n",
       "      <th>SpecificHeat</th>\n",
       "      <th>ThermalConductivity</th>\n",
       "      <th>ThermalExpansion</th>\n",
       "      <th>Valence</th>\n",
       "      <th>VaporizationHeat</th>\n",
       "      <th>VolumeMagneticSusceptibility</th>\n",
       "      <th>SuperconductingPoint</th>\n",
       "    </tr>\n",
       "  </thead>\n",
       "  <tbody>\n",
       "    <tr>\n",
       "      <th>84</th>\n",
       "      <td>astatine</td>\n",
       "      <td>At</td>\n",
       "      <td>210.0</td>\n",
       "      <td>85</td>\n",
       "      <td>916.3</td>\n",
       "      <td>127.0</td>\n",
       "      <td>p</td>\n",
       "      <td>NaN</td>\n",
       "      <td>NaN</td>\n",
       "      <td>150</td>\n",
       "      <td>...</td>\n",
       "      <td>Halogen</td>\n",
       "      <td>NaN</td>\n",
       "      <td>NaN</td>\n",
       "      <td>NaN</td>\n",
       "      <td>2.00000</td>\n",
       "      <td>NaN</td>\n",
       "      <td>7</td>\n",
       "      <td>40.0</td>\n",
       "      <td>NaN</td>\n",
       "      <td>NaN</td>\n",
       "    </tr>\n",
       "    <tr>\n",
       "      <th>85</th>\n",
       "      <td>radon</td>\n",
       "      <td>Rn</td>\n",
       "      <td>222.0</td>\n",
       "      <td>86</td>\n",
       "      <td>1036.5</td>\n",
       "      <td>120.0</td>\n",
       "      <td>p</td>\n",
       "      <td>-61.7</td>\n",
       "      <td>NaN</td>\n",
       "      <td>150</td>\n",
       "      <td>...</td>\n",
       "      <td>NobleGas</td>\n",
       "      <td>NaN</td>\n",
       "      <td>NaN</td>\n",
       "      <td>93.65</td>\n",
       "      <td>0.00361</td>\n",
       "      <td>NaN</td>\n",
       "      <td>6</td>\n",
       "      <td>17.0</td>\n",
       "      <td>NaN</td>\n",
       "      <td>NaN</td>\n",
       "    </tr>\n",
       "  </tbody>\n",
       "</table>\n",
       "<p>2 rows × 37 columns</p>\n",
       "</div>"
      ],
      "text/plain": [
       "   Unnamed: 0 Element  AtomicMass  AtomicNumber  FirstIonizationEnergy  \\\n",
       "84   astatine      At       210.0            85                  916.3   \n",
       "85      radon      Rn       222.0            86                 1036.5   \n",
       "\n",
       "    AtomicRadius Block  BoilingPoint  BrinellHardness  CovalentRadius  ...  \\\n",
       "84         127.0     p           NaN              NaN             150  ...   \n",
       "85         120.0     p         -61.7              NaN             150  ...   \n",
       "\n",
       "      Series  SoundSpeed  SpaceGroupNumber  SpecificHeat  ThermalConductivity  \\\n",
       "84   Halogen         NaN               NaN           NaN              2.00000   \n",
       "85  NobleGas         NaN               NaN         93.65              0.00361   \n",
       "\n",
       "    ThermalExpansion  Valence  VaporizationHeat VolumeMagneticSusceptibility  \\\n",
       "84               NaN        7              40.0                          NaN   \n",
       "85               NaN        6              17.0                          NaN   \n",
       "\n",
       "    SuperconductingPoint  \n",
       "84                   NaN  \n",
       "85                   NaN  \n",
       "\n",
       "[2 rows x 37 columns]"
      ]
     },
     "execution_count": 13,
     "metadata": {},
     "output_type": "execute_result"
    }
   ],
   "source": [
    "element_data.tail(2)"
   ]
  },
  {
   "cell_type": "code",
   "execution_count": 14,
   "metadata": {},
   "outputs": [],
   "source": [
    "ybaco7 = df.loc[df['Unnamed: 0'] == 29]"
   ]
  },
  {
   "cell_type": "code",
   "execution_count": 15,
   "metadata": {},
   "outputs": [],
   "source": [
    "ybaco7 = ybaco7['material']"
   ]
  },
  {
   "cell_type": "code",
   "execution_count": 16,
   "metadata": {},
   "outputs": [],
   "source": [
    "ybaco7 = np.array(ybaco7)"
   ]
  },
  {
   "cell_type": "code",
   "execution_count": 17,
   "metadata": {},
   "outputs": [],
   "source": [
    "ybaco7 = ybaco7[0]"
   ]
  },
  {
   "cell_type": "code",
   "execution_count": 18,
   "metadata": {},
   "outputs": [],
   "source": [
    "ybaco7 = simple_formula_parser(str(ybaco7))"
   ]
  },
  {
   "cell_type": "code",
   "execution_count": 19,
   "metadata": {},
   "outputs": [
    {
     "data": {
      "text/plain": [
       "{'Y': 1, 'Ba': 2, 'Cu': 3, 'O': 7}"
      ]
     },
     "execution_count": 19,
     "metadata": {},
     "output_type": "execute_result"
    }
   ],
   "source": [
    "ybaco7"
   ]
  },
  {
   "cell_type": "code",
   "execution_count": 21,
   "metadata": {},
   "outputs": [],
   "source": [
    "elementList = []\n",
    "for chem in ybaco7:\n",
    "    elementList.append(chem)"
   ]
  },
  {
   "cell_type": "code",
   "execution_count": 22,
   "metadata": {},
   "outputs": [
    {
     "data": {
      "text/plain": [
       "['Y', 'Ba', 'Cu', 'O']"
      ]
     },
     "execution_count": 22,
     "metadata": {},
     "output_type": "execute_result"
    }
   ],
   "source": [
    "elementList"
   ]
  },
  {
   "cell_type": "code",
   "execution_count": 23,
   "metadata": {},
   "outputs": [],
   "source": [
    "elementList = np.array(elementList)\n",
    "elementList = elementList[np.newaxis, :]\n",
    "elementList = np.resize(elementList, (2, 4))"
   ]
  },
  {
   "cell_type": "code",
   "execution_count": 24,
   "metadata": {},
   "outputs": [
    {
     "data": {
      "text/plain": [
       "array([['Y', 'Ba', 'Cu', 'O'],\n",
       "       ['Y', 'Ba', 'Cu', 'O']], dtype='<U2')"
      ]
     },
     "execution_count": 24,
     "metadata": {},
     "output_type": "execute_result"
    }
   ],
   "source": [
    "elementList"
   ]
  },
  {
   "cell_type": "code",
   "execution_count": 25,
   "metadata": {},
   "outputs": [],
   "source": [
    "shadowList = []\n",
    "for chem in ybaco7.values():\n",
    "    shadowList.append(chem)"
   ]
  },
  {
   "cell_type": "code",
   "execution_count": 26,
   "metadata": {},
   "outputs": [],
   "source": [
    "shadowList = np.array(shadowList)"
   ]
  },
  {
   "cell_type": "code",
   "execution_count": 27,
   "metadata": {},
   "outputs": [
    {
     "name": "stdout",
     "output_type": "stream",
     "text": [
      "[['Y' 'Ba' 'Cu' 'O']\n",
      " ['1' '2' '3' '7']]\n"
     ]
    }
   ],
   "source": [
    "elementList[1] = shadowList\n",
    "print(elementList)"
   ]
  },
  {
   "cell_type": "code",
   "execution_count": 28,
   "metadata": {},
   "outputs": [
    {
     "name": "stdout",
     "output_type": "stream",
     "text": [
      "[['yttrium' 'Y' 88.90585 39 615.4 212.0 'd' 3345.0 588.0 190\n",
      "  'simple_hexagonal' 4472.0 1800000.0 29.6 1.22 11.4 3.0 4240.0\n",
      "  'paramagnetic' 6.66e-08 1526.0 5.920000000000001e-09 1.988e-05 5\n",
      "  'solid' 0.24 5.7e-07 'TransitionMetal' 3300.0 194.0 298.0 17.0 1.06e-05\n",
      "  3 380.0 0.00029780000000000003 1.3]]\n",
      "[['barium' 'Ba' 137.327 56 502.5 253.0 's' 1870.0 nan 215\n",
      "  'body_centered_cubic' 3510.0 2900000.0 13.95 0.89 8.0 2.0 3338.0\n",
      "  'paramagnetic' 1.1299999999999999e-08 727.0 1.55e-09 3.912e-05 6\n",
      "  'solid' nan 3.5e-07 'AlkalineEarthMetal' 1620.0 229.0 205.0 18.0\n",
      "  2.0600000000000003e-05 2 140.0 3.966e-05 nan]]\n",
      "[['copper' 'Cu' 63.54600000000001 29 745.0 145.0 'd' 2562.0 874.0 132\n",
      "  'face_centered_cubic' 8960.0 59000000.0 118.4 1.9 13.1 11.0 8020.0\n",
      "  'diamagnetic' -1.0800000000000002e-09 1084.62 -6.86e-11 7.09e-06 4\n",
      "  'solid' 0.34 1.7e-08 'TransitionMetal' 3570.0 225.0 384.4 400.0\n",
      "  1.65e-05 2 300.0 -9.63e-06 nan]]\n",
      "[['oxygen' 'O' 15.9994 8 1313.1 48.0 'p' -182.9 nan 66\n",
      "  'base_centered_monoclinic' 1.429 nan 141.0 3.44 0.222 16.0 nan\n",
      "  'paramagnetic' 1.34e-06 -218.3 4.27e-08 0.0112 2 'gaseous' nan nan\n",
      "  'Chalcogen' 317.5 12.0 919.0 0.02658 nan 2 3.41 1.91e-06 nan]]\n"
     ]
    }
   ],
   "source": [
    "for element in elementList[0]:\n",
    "    temp = element_data.loc[element_data['Element'] == element]\n",
    "    temp = np.array(temp)\n",
    "    print(temp)"
   ]
  },
  {
   "cell_type": "markdown",
   "metadata": {},
   "source": [
    "The code above is for test the data we extracted from Kam Hamidieh's model"
   ]
  },
  {
   "cell_type": "code",
   "execution_count": 38,
   "metadata": {},
   "outputs": [],
   "source": [
    "from sklearn.ensemble import RandomForestRegressor"
   ]
  },
  {
   "cell_type": "code",
   "execution_count": 59,
   "metadata": {},
   "outputs": [],
   "source": [
    "forestModel = RandomForestRegressor(n_estimators=60)"
   ]
  },
  {
   "cell_type": "code",
   "execution_count": 60,
   "metadata": {
    "scrolled": true
   },
   "outputs": [
    {
     "data": {
      "text/plain": [
       "RandomForestRegressor(bootstrap=True, ccp_alpha=0.0, criterion='mse',\n",
       "                      max_depth=None, max_features='auto', max_leaf_nodes=None,\n",
       "                      max_samples=None, min_impurity_decrease=0.0,\n",
       "                      min_impurity_split=None, min_samples_leaf=1,\n",
       "                      min_samples_split=2, min_weight_fraction_leaf=0.0,\n",
       "                      n_estimators=60, n_jobs=None, oob_score=False,\n",
       "                      random_state=None, verbose=0, warm_start=False)"
      ]
     },
     "execution_count": 60,
     "metadata": {},
     "output_type": "execute_result"
    }
   ],
   "source": [
    "forestModel.fit(train_X, train_y)"
   ]
  },
  {
   "cell_type": "code",
   "execution_count": 66,
   "metadata": {},
   "outputs": [],
   "source": [
    "avg_forest = 0\n",
    "predictions_forest = 0"
   ]
  },
  {
   "cell_type": "code",
   "execution_count": 72,
   "metadata": {},
   "outputs": [],
   "source": [
    "for i in range(1, 26):\n",
    "    predictions_forest = forestModel.predict(test_X) # testando a predição da random forest\n",
    "    avg_forest += mean_absolute_error(predictions_forest, test_y)"
   ]
  },
  {
   "cell_type": "code",
   "execution_count": 74,
   "metadata": {},
   "outputs": [
    {
     "name": "stdout",
     "output_type": "stream",
     "text": [
      "RandomForest Regressor RMSE(for comparison):  5.295239217379148\n"
     ]
    }
   ],
   "source": [
    "print('RandomForest Regressor RMSE(for comparison): ', str(sqrt(avg_forest/25)))"
   ]
  },
  {
   "cell_type": "code",
   "execution_count": null,
   "metadata": {},
   "outputs": [],
   "source": []
  }
 ],
 "metadata": {
  "kernelspec": {
   "display_name": "Python 3",
   "language": "python",
   "name": "python3"
  },
  "language_info": {
   "codemirror_mode": {
    "name": "ipython",
    "version": 3
   },
   "file_extension": ".py",
   "mimetype": "text/x-python",
   "name": "python",
   "nbconvert_exporter": "python",
   "pygments_lexer": "ipython3",
   "version": "3.7.6"
  }
 },
 "nbformat": 4,
 "nbformat_minor": 4
}
